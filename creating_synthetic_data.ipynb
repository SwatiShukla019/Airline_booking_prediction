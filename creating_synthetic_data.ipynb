{
 "cells": [
  {
   "cell_type": "code",
   "execution_count": 13,
   "id": "8d29b7a0-eb82-40ee-a3d2-69c17cc1ba2f",
   "metadata": {},
   "outputs": [],
   "source": [
    "!pip install faker==19.6.2 tqdm langcodes -q"
   ]
  },
  {
   "cell_type": "code",
   "execution_count": 14,
   "id": "d083d1e4-af06-4ef9-9e47-71591fedbf2d",
   "metadata": {},
   "outputs": [],
   "source": [
    "import pandas as pd, random, re, numpy as np\n",
    "from faker import Faker\n",
    "from tqdm.auto import tqdm\n",
    "tqdm.pandas()\n",
    "\n",
    "orig_path = \"master_airline_dataset.csv\" \n",
    "df = pd.read_csv(orig_path)"
   ]
  },
  {
   "cell_type": "code",
   "execution_count": 15,
   "id": "dce3353f-812b-4779-a747-cc1312fa683d",
   "metadata": {},
   "outputs": [
    {
     "data": {
      "application/vnd.jupyter.widget-view+json": {
       "model_id": "9e8bfdc5866a471bb11febbf90086207",
       "version_major": 2,
       "version_minor": 0
      },
      "text/plain": [
       "Generating es:   0%|          | 0/36594 [00:00<?, ?it/s]"
      ]
     },
     "metadata": {},
     "output_type": "display_data"
    },
    {
     "data": {
      "application/vnd.jupyter.widget-view+json": {
       "model_id": "be39dc0ef2d24e6493ff9c74d9bc9a23",
       "version_major": 2,
       "version_minor": 0
      },
      "text/plain": [
       "Generating fr:   0%|          | 0/22389 [00:00<?, ?it/s]"
      ]
     },
     "metadata": {},
     "output_type": "display_data"
    },
    {
     "data": {
      "application/vnd.jupyter.widget-view+json": {
       "model_id": "38224eff15a2478994f9db9c0a3f2c5e",
       "version_major": 2,
       "version_minor": 0
      },
      "text/plain": [
       "Generating nl:   0%|          | 0/19284 [00:00<?, ?it/s]"
      ]
     },
     "metadata": {},
     "output_type": "display_data"
    },
    {
     "data": {
      "application/vnd.jupyter.widget-view+json": {
       "model_id": "8d40ad3667904566830519a0bdca0dc7",
       "version_major": 2,
       "version_minor": 0
      },
      "text/plain": [
       "Generating de:   0%|          | 0/46783 [00:00<?, ?it/s]"
      ]
     },
     "metadata": {},
     "output_type": "display_data"
    },
    {
     "data": {
      "application/vnd.jupyter.widget-view+json": {
       "model_id": "fcbbbd55afb045cdbce0754cbc0a1ee3",
       "version_major": 2,
       "version_minor": 0
      },
      "text/plain": [
       "Generating it:   0%|          | 0/27895 [00:00<?, ?it/s]"
      ]
     },
     "metadata": {},
     "output_type": "display_data"
    }
   ],
   "source": [
    "def clean_text(text):\n",
    "    return re.sub(r\"[^\\x00-\\x7F]+\", \"\", str(text))\n",
    "df[\"customer_review\"] = df[\"customer_review\"].apply(clean_text)\n",
    "\n",
    "templates = {\n",
    "    \"es\": [\n",
    "        \"El vuelo con {airline} fue {adj}. {extra}\",\n",
    "        \"Servicio {adj} a bordo de {airline}. {extra}\"\n",
    "    ],\n",
    "    \"fr\": [\n",
    "        \"Le vol avec {airline} était {adj}. {extra}\",\n",
    "        \"{airline} offre un service {adj}. {extra}\"\n",
    "    ],\n",
    "    \"nl\": [\n",
    "        \"De vlucht met {airline} was {adj}. {extra}\",\n",
    "        \"{airline} bood een {adj} ervaring. {extra}\"\n",
    "    ],\n",
    "    \"de\": [\n",
    "        \"Der Flug mit {airline} war {adj}. {extra}\",\n",
    "        \"{airline} bot einen {adj} Service. {extra}\"\n",
    "    ],\n",
    "    \"it\": [\n",
    "        \"Il volo con {airline} è stato {adj}. {extra}\",\n",
    "        \"{airline} offre un servizio {adj}. {extra}\"\n",
    "    ]\n",
    "}\n",
    "adjs = {\n",
    "    \"es\": [\"excelente\", \"aceptable\", \"mediocre\"],\n",
    "    \"fr\": [\"excellent\", \"correct\", \"médiocre\"],\n",
    "    \"nl\": [\"uitstekend\", \"redelijk\", \"matig\"],\n",
    "    \"de\": [\"ausgezeichnet\", \"in Ordnung\", \"mittelmäßig\"],\n",
    "    \"it\": [\"eccellente\", \"discreto\", \"scarso\"]\n",
    "}\n",
    "extras = {\n",
    "    \"es\": [\"Recomiendo esta aerolínea.\", \"Definitivamente volvería a volar.\"],\n",
    "    \"fr\": [\"Je la recommande.\", \"Je voyagerai de nouveau.\"],\n",
    "    \"nl\": [\"Ik vlieg graag opnieuw.\", \"Aanrader!\"],\n",
    "    \"de\": [\"Würde wieder fliegen.\", \"Kann ich empfehlen.\"],\n",
    "    \"it\": [\"La consiglio.\", \"Volerei di nuovo.\"]\n",
    "}\n",
    "airlines_pool = [\"Lufthansa\", \"Air France\", \"KLM\", \"Emirates\", \"Qatar Airways\"]\n",
    "\n",
    "lang_counts = {\"es\":36594, \"fr\":22389, \"nl\":19284, \"de\":46783, \"it\":27895}\n",
    "\n",
    "fake = Faker()\n",
    "synthetic_rows = []\n",
    "\n",
    "for lang, n_rows in lang_counts.items():\n",
    "    for _ in tqdm(range(n_rows), desc=f\"Generating {lang}\"):\n",
    "        tpl = random.choice(templates[lang])\n",
    "        review = tpl.format(\n",
    "            airline=random.choice(airlines_pool),\n",
    "            adj=random.choice(adjs[lang]),\n",
    "            extra=random.choice(extras[lang])\n",
    "        )\n",
    "        synthetic_rows.append({\n",
    "            \"airline\": random.choice(airlines_pool),\n",
    "            \"customer_review\": review,\n",
    "            \"recommended\": random.choice([\"yes\",\"no\"]),\n",
    "            \"sentiment\": 1 if \"excelent\" in review or \"excell\" in review or \"ausgezeichnet\" in review else 0,\n",
    "            \"language\": lang,\n",
    "            \"user_id\": f\"synth_{lang}_{fake.uuid4()}\",\n",
    "            \"gender\": random.choice([\"Male\",\"Female\"]),\n",
    "            \"age\": random.randint(18,70),\n",
    "            \"travel_class\": random.choice([\"Economy\",\"Business\",\"Premium Economy\"]),\n",
    "            \"satisfaction\": random.choice([\"Satisfied\",\"Neutral or Dissatisfied\"]),\n",
    "            \"date_time\": fake.date_time_between(start_date='-3y', end_date='now'),\n",
    "            \"is_booking\": random.choices([0,1], weights=[0.6,0.4])[0]\n",
    "        })\n",
    "\n",
    "synthetic_df = pd.DataFrame(synthetic_rows)\n",
    "\n",
    "augmented_df = pd.concat([df, synthetic_df], ignore_index=True)"
   ]
  },
  {
   "cell_type": "code",
   "execution_count": 16,
   "id": "dd7230fb-a783-44f0-886c-0f76d112c327",
   "metadata": {},
   "outputs": [
    {
     "name": "stdout",
     "output_type": "stream",
     "text": [
      " Saved at: master_airline_dataset_augmented.csv\n"
     ]
    }
   ],
   "source": [
    "save_path = \"master_airline_dataset_augmented.csv\"   # file lands in the current notebook folder\n",
    "augmented_df.to_csv(save_path, index=False, encoding=\"utf-8\")\n",
    "print(\" Saved at:\", save_path)"
   ]
  },
  {
   "cell_type": "code",
   "execution_count": null,
   "id": "1ac28542-4b1e-4963-9ef4-0725ef14143c",
   "metadata": {},
   "outputs": [],
   "source": []
  }
 ],
 "metadata": {
  "kernelspec": {
   "display_name": "Python 3 (ipykernel)",
   "language": "python",
   "name": "python3"
  },
  "language_info": {
   "codemirror_mode": {
    "name": "ipython",
    "version": 3
   },
   "file_extension": ".py",
   "mimetype": "text/x-python",
   "name": "python",
   "nbconvert_exporter": "python",
   "pygments_lexer": "ipython3",
   "version": "3.12.4"
  }
 },
 "nbformat": 4,
 "nbformat_minor": 5
}
